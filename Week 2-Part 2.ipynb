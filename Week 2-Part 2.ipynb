{
    "cells": [
        {
            "cell_type": "markdown",
            "metadata": {
                "collapsed": true
            },
            "source": "# Capstone Project - Car accident severity\n"
        },
        {
            "cell_type": "markdown",
            "metadata": {},
            "source": "## Week 2 Part 1 and 2"
        },
        {
            "cell_type": "markdown",
            "metadata": {},
            "source": "## Contents covered in this notebook:\n- Business Problem and Background of this project\n- Data for this project"
        },
        {
            "cell_type": "markdown",
            "metadata": {},
            "source": "## Introduction: Business Problem and Background"
        },
        {
            "cell_type": "markdown",
            "metadata": {},
            "source": "Seattle is a seaport city located in the west coast of the United States.But its road accident curve is not so cool. They have been reporting a high number of car accidents due to varied reasons.So the government of Seattle is in its pursuit of reducing the car collisions that is happening on its roads. The best way to approach this would be to analyze the data that contains details of the previously occured such accidents. \n\nThere is a high need for an algorithm or system that could prevent or initialy atleast flatten the curve of accidents taking place,through its pedictions so that required force is sent for their rescue. Beyond several factors relating to the physical,mental and driving conditions of the people who are on the driver seat, the status of the roads being travelled through, the weather and climatic conditions and other common commodities are also to be taken into account.\n\nThe target audience of the project are the Seattle government, the police department , the rescue groups and the car insurance companies too. This project and its results might open up some statistics for the target audience and make insightful decisions for reducing the number of accidents and injuries on its roads."
        },
        {
            "cell_type": "markdown",
            "metadata": {},
            "source": "## Data for this project"
        },
        {
            "cell_type": "markdown",
            "metadata": {},
            "source": "The data we are considering for this is the unbalanced dataset that is provided by the Seattle Department of Transportation Traffic Management Division. The dataset that is used here consists of 194673 entries of accidents with 37 attributes to be considered for each. Each row is given a severity code which is dependent on other factors/attributes.It covers accidents from January 2004 to May 2020.\n\nOur main variable \"SEVERITY CODE\" contains values from 0 to 4.\nIt corresponds to the severity of the collision.\n- 3->fatality\n- 2b->serious injury\n- 2->injury\n- 1->prop damage\n- 0->unknown \n\nas given in metadata.\n\nThe severity code in the data set considered is 1 and 2.\n\n1- 136485\n\n2- 58188\n\nOther important variables include:\n\n1.  ADDRTYPE: Collision address type: Alley, Block, Intersection\n2.  LOCATION: Description of the general location of the collision\n3.  PERSONCOUNT: The total number of people involved in the collision helps identifyseverity level\n4.  PEDCOUNT: The number of pedestrians involved in the collision helps identify severity level\n5.  PEDCYLCOUNT: The number of bicycles involved in the collision helps identify severity level\n6.  VEHCOUNT: The number of vehicles involved in the collision identify severity level\n7.  JUNCTIONTYPE: Category of junction at which collision took place helps identify where most collisions occur\n8.  WEATHER: A description of the weather conditions during the time of the collision\n9.  ROADCOND: The condition of the road during the collision\n10. LIGHTCOND: The light conditions during the collision\n11. SPEEDING: Whether or not speeding was a factor in the collision (Y/N)\n12. SEGLANEKEY: A key for the lane segment in which the collision occurred\n13. CROSSWALKKEY: A key for the crosswalk at which the collision occurred\n14. HITPARKEDCAR: Whether or not the collision involved hitting a parked car\n15. INJURIES: The number of total injuries in the collision.\n16. SERIOUSINJURIES: The number of serious injuries in the collision. \n17. FATALITIES: The number of fatalities in the collision.\n18. INATTENTIONIND : Whether or not collision was due to inattention.\n19. UNDERINFL: Whether or not a driver involved was under the influence of drugs or alcohol. \n20. INCDTTM : The date and time of the incident.\n\n\n"
        },
        {
            "cell_type": "markdown",
            "metadata": {},
            "source": "###### This is the data understanding and data understanding of this project."
        },
        {
            "cell_type": "code",
            "execution_count": null,
            "metadata": {},
            "outputs": [],
            "source": ""
        }
    ],
    "metadata": {
        "kernelspec": {
            "display_name": "Python 3.6",
            "language": "python",
            "name": "python3"
        },
        "language_info": {
            "codemirror_mode": {
                "name": "ipython",
                "version": 3
            },
            "file_extension": ".py",
            "mimetype": "text/x-python",
            "name": "python",
            "nbconvert_exporter": "python",
            "pygments_lexer": "ipython3",
            "version": "3.6.9"
        }
    },
    "nbformat": 4,
    "nbformat_minor": 1
}